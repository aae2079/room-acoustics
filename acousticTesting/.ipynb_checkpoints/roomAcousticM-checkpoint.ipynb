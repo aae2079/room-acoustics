{
 "cells": [
  {
   "cell_type": "markdown",
   "id": "54cbc77b-87d5-46a2-9c01-35491928ed30",
   "metadata": {},
   "source": [
    "# Room Acoustic Measurment"
   ]
  },
  {
   "cell_type": "markdown",
   "id": "2d6c674b-4ca3-4af1-a9bf-af4b3d2a22ff",
   "metadata": {},
   "source": [
    "## Background\n",
    "\n",
    "This script will be able to run testing on your room accoustic. All you need to do is perform a few recordings, those being the following:\n",
    "1. Recording of an impulse response (WAV of IR is provided below)\n",
    "2. Recording of a sine sweep (WAV of sweep also provided)\n",
    "\n",
    "These recordings must be done in a 24-bit, 44.1kHZ, .wav format (Single channel is fine atm). Positionally the microphone should be in the position you listen from at ear position height. To perform test recordings must have minimal background noise. Run your wave files through the \"floorNoiseCheck\" function before performing any other tasks. This will give you a boolean and a leaking background noise measurment result."
   ]
  },
  {
   "cell_type": "code",
   "execution_count": null,
   "id": "c6c4ea61-c1de-4f04-aead-2f4824513d88",
   "metadata": {},
   "outputs": [],
   "source": [
    "import numpy as np\n",
    "import matplotlib.pyplot as plt\n",
    "import librosa as lr\n",
    "import librosa.display as ld\n",
    "import scipy.signal as sc\n",
    "import matplotlib.colors as mcolors\n",
    "from scipy.optimize import curve_fit"
   ]
  },
  {
   "cell_type": "code",
   "execution_count": null,
   "id": "a0fe1e28-7061-45ef-b1cd-dde1771c5d71",
   "metadata": {},
   "outputs": [],
   "source": [
    "def curveFit(x,m,b):\n",
    "    return m*x+b"
   ]
  },
  {
   "cell_type": "code",
   "execution_count": null,
   "id": "4ce14acf-cd63-4d8d-b01f-8be564fba661",
   "metadata": {},
   "outputs": [],
   "source": [
    "def reverbTimeCalc(signal, int window_size, int N):\n",
    "    \n",
    "    x_anyl = abs(sc.hilbert(x))/np.max(abs(x)) #Analytical signal removes any phase information\n",
    "    x_log = 20.0*np.log10(x_anyl) #Take the log to get the power singal\n",
    "\n",
    "    ma_filter = np.ones(window_size) / window_size\n",
    "    x_ma = np.convolve(x_anyl, ma_filter, mode='same') #Filter the signal to remove noise\n",
    "\n",
    "    x_ma1 = x_ma[:N]\n",
    "\n",
    "    sch = 10.0 * np.log10(np.cumsum(x_ma1[::-1]**2)[::-1] / np.max(np.cumsum(x_ma1[::-1]**2))) #Integrate using Schroders integral\n",
    "    \n",
    "    ##ANALYSIS\n",
    "    popt,pconv = curve_fit(func,t[:N],sch)\n",
    "    m,b = popt\n",
    "    y = m * t + b\n",
    "    \n",
    "    reverbTimeArr = [-60/m,-30/m,-20/m,-10/m]\n",
    "    \n",
    "    return reverbTimeArr"
   ]
  },
  {
   "cell_type": "code",
   "execution_count": null,
   "id": "5285a160",
   "metadata": {},
   "outputs": [],
   "source": []
  }
 ],
 "metadata": {
  "kernelspec": {
   "display_name": "Python 3 (ipykernel)",
   "language": "python",
   "name": "python3"
  },
  "language_info": {
   "codemirror_mode": {
    "name": "ipython",
    "version": 3
   },
   "file_extension": ".py",
   "mimetype": "text/x-python",
   "name": "python",
   "nbconvert_exporter": "python",
   "pygments_lexer": "ipython3",
   "version": "3.9.12"
  }
 },
 "nbformat": 4,
 "nbformat_minor": 5
}
