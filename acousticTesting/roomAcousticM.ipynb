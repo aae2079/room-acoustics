{
 "cells": [
  {
   "cell_type": "markdown",
   "id": "54cbc77b-87d5-46a2-9c01-35491928ed30",
   "metadata": {},
   "source": [
    "# Room Acoustic Measurment"
   ]
  },
  {
   "cell_type": "markdown",
   "id": "2d6c674b-4ca3-4af1-a9bf-af4b3d2a22ff",
   "metadata": {},
   "source": [
    "## Background\n",
    "\n",
    "This is a prototype program that will be able to run testing on your room accoustic. All you need to do is perform a few recordings, those being the following:\n",
    "1. Recording of an impulse response (WAV of IR is provided below)\n",
    "2. Recording of a sine sweep (WAV of sweep also provided)\n",
    "\n",
    "These recordings must be done in a 24-bit, 44.1kHZ, .wav format (Single channel is fine atm). Positionally the microphone should be in the position you listen from at ear position height. To perform test recordings must have minimal background noise. Run your wave files through the \"floorNoiseCheck\" function before performing any other tasks. This will give you a boolean and a leaking background noise measurment result."
   ]
  },
  {
   "cell_type": "code",
   "execution_count": 2,
   "id": "c6c4ea61-c1de-4f04-aead-2f4824513d88",
   "metadata": {},
   "outputs": [],
   "source": [
    "import numpy as np\n",
    "import matplotlib.pyplot as plt\n",
    "import librosa as lr\n",
    "import librosa.display as ld\n",
    "import scipy.signal as sc\n",
    "import matplotlib.colors as mcolors\n",
    "from scipy.optimize import curve_fit"
   ]
  },
  {
   "cell_type": "code",
   "execution_count": null,
   "id": "a0fe1e28-7061-45ef-b1cd-dde1771c5d71",
   "metadata": {},
   "outputs": [],
   "source": [
    "def curveFit(x,m,b):\n",
    "    return m*x+b"
   ]
  },
  {
   "cell_type": "code",
   "execution_count": 2,
   "id": "4ce14acf-cd63-4d8d-b01f-8be564fba661",
   "metadata": {},
   "outputs": [],
   "source": [
    "def reverbTimeCalc(signal, window_size, N):\n",
    "    \n",
    "    x_anyl = abs(sc.hilbert(signal))/np.max(abs(signal)) #Analytical signal removes any phase information\n",
    "    x_log = 20.0*np.log10(x_anyl) #Take the log to get the power singal\n",
    "\n",
    "    ma_filter = np.ones(window_size) / window_size\n",
    "    x_ma = np.convolve(x_anyl, ma_filter, mode='same') #Filter the signal to remove noise\n",
    "\n",
    "    x_ma1 = x_ma[:N]\n",
    "\n",
    "    sch = 10.0 * np.log10(np.cumsum(x_ma1[::-1]**2)[::-1] / np.max(np.cumsum(x_ma1[::-1]**2))) #Integrate using Schroders integral\n",
    "    \n",
    "    ##ANALYSIS\n",
    "    popt,pconv = curve_fit(func,t[:N],sch)\n",
    "    m,b = popt\n",
    "    y = m * t + b\n",
    "    \n",
    "    reverbTimeArr = [-60/m,-30/m,-20/m,-10/m]\n",
    "    \n",
    "    return reverbTimeArr"
   ]
  },
  {
   "cell_type": "code",
   "execution_count": null,
   "id": "5285a160",
   "metadata": {},
   "outputs": [],
   "source": [
    "def freqResponse(signal, ):\n",
    "    sigFFT = np.fft.rfft(signal)\n",
    "    pwrSpec = 10*np.log10(sigFFT)\n",
    "    \n",
    "    \n",
    "    \n",
    "    \n",
    "    "
   ]
  },
  {
   "cell_type": "code",
   "execution_count": 50,
   "id": "c42d7ae9-4bea-44ee-9027-cc4f85b55a9a",
   "metadata": {},
   "outputs": [
    {
     "name": "stdout",
     "output_type": "stream",
     "text": [
      "512\n",
      "start_ix : end_ix\n",
      "----------------\n",
      "0          1024 \n",
      "\n",
      "512          1536 \n",
      "\n",
      "1024          2048 \n",
      "\n",
      "1536          2560 \n",
      "\n",
      "2048          3072 \n",
      "\n",
      "2560          3584 \n",
      "\n",
      "3072          4096 \n",
      "\n",
      "3584          4608 \n",
      "\n",
      "4096          5120 \n",
      "\n",
      "4608          5632 \n",
      "\n",
      "5120          6144 \n",
      "\n",
      "5632          6656 \n",
      "\n",
      "6144          7168 \n",
      "\n",
      "6656          7680 \n",
      "\n",
      "7168          8192 \n",
      "\n",
      "7680          8704 \n",
      "\n",
      "8192          9216 \n",
      "\n",
      "8704          9728 \n",
      "\n",
      "9216          10000 \n",
      "\n"
     ]
    }
   ],
   "source": [
    "def sig2Noiz(signal,fs, window_length,overlap):\n",
    "    \"\"\"\n",
    "    signal: time-series audio vector\n",
    "    fs: sampling rate \n",
    "    window: number of samples to be processed\n",
    "    overlap: amount of overlapped windows\n",
    "\n",
    "    \"\"\"\n",
    "    if (overlap == 0):\n",
    "        step = 1;\n",
    "        numWindows = np.ceil(len(signal)/window_length);\n",
    "    else:\n",
    "        step = int(np.round(overlap*window_length));\n",
    "        numWindows = np.ceil(len(signal)/(overlap*window_length));\n",
    "    print(step)\n",
    "    print(\"start_ix : end_ix\")\n",
    "    print(\"----------------\")\n",
    "    for i in range(0,len(signal),step):\n",
    "        st = i\n",
    "        en = min(window_length + i, len(signal))\n",
    "        \n",
    "        if (en - st < window_length - step):\n",
    "            break\n",
    "        \n",
    "            \n",
    "  \n",
    "        print(st , \"        \" , en,\"\\n\")\n",
    "        \n",
    "        \n",
    "        \n",
    "#         sigFFT = np.fft.rfft(signal)\n",
    "#         freq = np.fft.rfftfreq(len(signal), 1/fs)\n",
    "#         #Remove DC component\n",
    "#         sigFFT[0] = 0\n",
    "    \n",
    "    \n",
    "    # plt.plot(freq,np.abs(sigFFT))\n",
    "    # return sigFFT\n",
    "\n",
    "\n",
    "fs = 10000;\n",
    "t = np.arange(0,1,1/fs)\n",
    "signal = np.sin(2*np.pi*4000*t)\n",
    "noiz = 20*np.random.rand(len(t))\n",
    "\n",
    "\n",
    "sig2Noiz(signal+noiz,fs, 1024, 0.5)\n",
    "\n",
    "#print(len(signal))\n"
   ]
  },
  {
   "cell_type": "code",
   "execution_count": 45,
   "id": "8546d365-aed6-4312-a5d3-57a625e1d445",
   "metadata": {},
   "outputs": [
    {
     "data": {
      "text/plain": [
       "980"
      ]
     },
     "execution_count": 45,
     "metadata": {},
     "output_type": "execute_result"
    }
   ],
   "source": [
    "window"
   ]
  },
  {
   "cell_type": "code",
   "execution_count": null,
   "id": "194f2346-7b56-40f6-93c0-a185f8cf78de",
   "metadata": {},
   "outputs": [],
   "source": []
  }
 ],
 "metadata": {
  "kernelspec": {
   "display_name": "Python 3 (ipykernel)",
   "language": "python",
   "name": "python3"
  },
  "language_info": {
   "codemirror_mode": {
    "name": "ipython",
    "version": 3
   },
   "file_extension": ".py",
   "mimetype": "text/x-python",
   "name": "python",
   "nbconvert_exporter": "python",
   "pygments_lexer": "ipython3",
   "version": "3.9.12"
  }
 },
 "nbformat": 4,
 "nbformat_minor": 5
}
