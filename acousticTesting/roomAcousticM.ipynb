{
 "cells": [
  {
   "cell_type": "markdown",
   "id": "5e2f8792",
   "metadata": {},
   "source": [
    "# Room Acoustic Measurment"
   ]
  },
  {
   "cell_type": "markdown",
   "id": "81467c36",
   "metadata": {},
   "source": [
    "## Background\n",
    "\n",
    "This is a prototype program that will be able to run testing on your room accoustic. All you need to do is perform a few recordings, those being the following:\n",
    "1. Recording of an impulse response (WAV of IR is provided below)\n",
    "2. Recording of a sine sweep (WAV of sweep also provided)\n",
    "\n",
    "These recordings must be done in a 24-bit, 44.1kHZ, .wav format (Single channel is fine atm). Positionally the microphone should be in the position you listen from at ear position height. To perform test recordings must have minimal background noise. Run your wave files through the \"floorNoiseCheck\" function before performing any other tasks. This will give you a boolean and a leaking background noise measurment result."
   ]
  },
  {
   "cell_type": "code",
   "execution_count": 2,
   "id": "ba03e0af",
   "metadata": {},
   "outputs": [],
   "source": [
    "import numpy as np\n",
    "import matplotlib.pyplot as plt\n",
    "import librosa as lr\n",
    "import librosa.display as ld\n",
    "import scipy.signal as sc\n",
    "import matplotlib.colors as mcolors\n",
    "from scipy.optimize import curve_fit"
   ]
  },
  {
   "cell_type": "code",
   "execution_count": 3,
   "id": "f977429b",
   "metadata": {},
   "outputs": [],
   "source": [
    "def curveFit(x,m,b):\n",
    "    return m*x+b"
   ]
  },
  {
   "cell_type": "code",
   "execution_count": 2,
   "id": "0db17c2b",
   "metadata": {},
   "outputs": [],
   "source": [
    "def reverbTimeCalc(signal, window_size, N):\n",
    "    \n",
    "    x_anyl = abs(sc.hilbert(signal))/np.max(abs(signal)) #Analytical signal removes any phase information\n",
    "    x_log = 20.0*np.log10(x_anyl) #Take the log to get the power singal\n",
    "\n",
    "    ma_filter = np.ones(window_size) / window_size\n",
    "    x_ma = np.convolve(x_anyl, ma_filter, mode='same') #Filter the signal to remove noise\n",
    "\n",
    "    x_ma1 = x_ma[:N]\n",
    "\n",
    "    sch = 10.0 * np.log10(np.cumsum(x_ma1[::-1]**2)[::-1] / np.max(np.cumsum(x_ma1[::-1]**2))) #Integrate using Schroders integral\n",
    "    \n",
    "    ##ANALYSIS\n",
    "    popt,pconv = curve_fit(func,t[:N],sch)\n",
    "    m,b = popt\n",
    "    y = m * t + b\n",
    "    \n",
    "    reverbTimeArr = [-60/m,-30/m,-20/m,-10/m]\n",
    "    \n",
    "    return reverbTimeArr"
   ]
  },
  {
   "cell_type": "code",
   "execution_count": null,
   "id": "04cd123f",
   "metadata": {},
   "outputs": [],
   "source": [
    "def freqResponse(signal, ):\n",
    "    sigFFT = np.fft.rfft(signal)\n",
    "    pwrSpec = 10*np.log10(sigFFT)\n",
    "    \n",
    "    \n",
    "    \n",
    "    \n",
    "    "
   ]
  },
  {
   "cell_type": "code",
   "execution_count": 9,
   "id": "9131e74c",
   "metadata": {},
   "outputs": [
    {
     "data": {
      "image/png": "[encoded data removed]",
      "text/plain": [
       "<Figure size 432x288 with 1 Axes>"
      ]
     },
     "metadata": {
      "needs_background": "light"
     },
     "output_type": "display_data"
    },
    {
     "data": {
      "image/png": "[encoded data removed]",
      "text/plain": [
       "<Figure size 432x288 with 1 Axes>"
      ]
     },
     "metadata": {
      "needs_background": "light"
     },
     "output_type": "display_data"
    }
   ],
   "source": [
    "def snrAnyl(signal, fs,  frame_length,  overlap, window_type):\n",
    "    \"\"\"\n",
    "    SNR Analyzer. Will determine the snr levels of your room, ie: ratio between floor noise and direct signal\n",
    "    \n",
    "    signal: time-series audio vector\n",
    "    fs: sampling rate \n",
    "    frame_length: number of samples to be processed per frame\n",
    "    window_type: boxcar, triangle, hann, hamming, etc. \n",
    "    overlap: amount of overlapped windows\n",
    "\n",
    "    \"\"\"\n",
    "    if (overlap == 0):\n",
    "        step = 1;\n",
    "        numWindows = np.ceil(len(signal)/frame_length);\n",
    "    else:\n",
    "        step = int(np.round(overlap*frame_length));\n",
    "        numWindows = np.ceil(len(signal)/(overlap*frame_length));\n",
    "    # print(step)\n",
    "    # print(\"start_ix : end_ix\")\n",
    "    # print(\"----------------\")\n",
    "    for i in range(0,len(signal),step):\n",
    "        st = i\n",
    "        en = min(frame_length + i, len(signal))\n",
    "        \n",
    "        #If end index - start index is less thatn window length - step break\n",
    "        if (en - st < frame_length - step):\n",
    "            break\n",
    "        \n",
    "        window = sc.windows.get_window(window_type, frame_length);\n",
    "        #Window/Filter signal \n",
    "        winDodSig = sc.convolve(signal[st:en],window)\n",
    "        \n",
    "\n",
    "\n",
    "  \n",
    "\n",
    "        \n",
    "    plt.figure(1)\n",
    "    plt.plot(signal)      \n",
    "        \n",
    "#         sigFFT = np.fft.rfft(signal)\n",
    "#         freq = np.fft.rfftfreq(len(signal), 1/fs)\n",
    "#         #Remove DC component\n",
    "#         sigFFT[0] = 0\n",
    "    \n",
    "    \n",
    "    # plt.plot(freq,np.abs(sigFFT))\n",
    "    # return sigFFT\n",
    "\n",
    "\n",
    "fs = 10000;\n",
    "t = np.arange(0,1,1/fs)\n",
    "signal = np.sin(2*np.pi*4000*t)\n",
    "noiz = 20*np.random.rand(len(t))\n",
    "\n",
    "\n",
    "snrAnyl(signal+noiz,fs, 1024, 0.5, \"hann\")\n",
    "\n",
    "#print(len(signal))\n"
   ]
  },
  {
   "cell_type": "code",
   "execution_count": 1,
   "id": "e97fcd55",
   "metadata": {},
   "outputs": [],
   "source": [
    "#git test"
   ]
  },
  {
   "cell_type": "code",
   "execution_count": null,
   "id": "f9a845bd",
   "metadata": {},
   "outputs": [],
   "source": []
  }
 ],
 "metadata": {
  "kernelspec": {
   "display_name": "Python 3 (ipykernel)",
   "language": "python",
   "name": "python3"
  },
  "language_info": {
   "codemirror_mode": {
    "name": "ipython",
    "version": 3
   },
   "file_extension": ".py",
   "mimetype": "text/x-python",
   "name": "python",
   "nbconvert_exporter": "python",
   "pygments_lexer": "ipython3",
   "version": "3.9.12"
  }
 },
 "nbformat": 4,
 "nbformat_minor": 5
}
